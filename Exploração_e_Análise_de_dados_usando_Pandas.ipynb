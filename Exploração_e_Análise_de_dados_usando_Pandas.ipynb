{
  "nbformat": 4,
  "nbformat_minor": 0,
  "metadata": {
    "colab": {
      "name": "Exploração e Análise de dados usando Pandas.ipynb",
      "provenance": [],
      "collapsed_sections": [],
      "toc_visible": true
    },
    "kernelspec": {
      "name": "python3",
      "display_name": "Python 3"
    }
  },
  "cells": [
    {
      "cell_type": "markdown",
      "metadata": {
        "id": "hv1NJjJBZaG0",
        "colab_type": "text"
      },
      "source": [
        "# Exploração e Análise de Dados (EDA)\n",
        "\n",
        "\"A Análise Exploratória de Dados refere-se ao processo crítico de realizar investigações iniciais sobre os dados, a fim de descobrir padrões, detectar anomalias, testar hipóteses e verificar suposições com a ajuda de **estatísticas resumidas** e **representações gráficas**\".\n",
        "\n",
        "Fonte: https://towardsdatascience.com/exploratory-data-analysis-8fc1cb20fd15"
      ]
    },
    {
      "cell_type": "markdown",
      "metadata": {
        "id": "Vhl4fvifaeon",
        "colab_type": "text"
      },
      "source": [
        "# Porque analisar dados?\n",
        "\n",
        "* Detecção de erros\n",
        "* Verificação de premissas\n",
        "* Seleção preliminar de modelos\n",
        "* Determinar relações entre as variáveis, e\n",
        "* Avaliação preliminar de relações entre as assessing the direction and rough size of relationships between explanatory and outcome variables."
      ]
    },
    {
      "cell_type": "markdown",
      "metadata": {
        "id": "xQSbSmm_eegT",
        "colab_type": "text"
      },
      "source": [
        "# Conceitos Básicos\n"
      ]
    },
    {
      "cell_type": "markdown",
      "metadata": {
        "id": "KxxuPYnam50M",
        "colab_type": "text"
      },
      "source": [
        "## Variáveis\n",
        "\n",
        "* Características/atributos do fenômeno observado\n",
        "* São as colunas da tabela de dados"
      ]
    },
    {
      "cell_type": "markdown",
      "metadata": {
        "id": "2uNIgxILmuci",
        "colab_type": "text"
      },
      "source": [
        "## Classificação das variáveis\n",
        "\n",
        "* Papel (Exploratória ou Resultante)\n",
        "* Tipo (Categórica ou Quantitativa)"
      ]
    },
    {
      "cell_type": "markdown",
      "metadata": {
        "id": "uzAI7VrlmuNL",
        "colab_type": "text"
      },
      "source": [
        "## Classificação da análise\n",
        "\n",
        "* Gráfico x Não-gráfico\n",
        "* Univariada x Multivariada\n"
      ]
    },
    {
      "cell_type": "markdown",
      "metadata": {
        "id": "wZJAApjgPzJy",
        "colab_type": "text"
      },
      "source": [
        "# Visão geral das principais bibliotecas\n",
        "\n",
        "* Matplotlib: low level, provides lots of freedom\n",
        "* Pandas Visualization: easy to use interface, built on Matplotlib\n",
        "* Seaborn: high-level interface, great default styles\n",
        "* ggplot: based on R’s ggplot2, uses Grammar of Graphics\n",
        "* Plotly: can create interactive plots\n",
        "\n",
        "Fonte: https://towardsdatascience.com/introduction-to-data-visualization-in-python-89a54c97fbed"
      ]
    },
    {
      "cell_type": "markdown",
      "metadata": {
        "id": "FMiRRwyZF6Ze",
        "colab_type": "text"
      },
      "source": [
        "# COVID-19\n",
        "\n",
        "* Causada pelo vírus SARS-COV-2\n",
        "* Identificada em Wuhan, Hubei, China.\n",
        "* Sintomas reportados em 1º de dezembro de 2019.\n",
        "* Os primeiros casos estão conectados com o mercado First cases were linked to contact with the Mercado Atacadista de Frutos do Mar de Huanan, que também vende animais vivos.\n",
        "* Em 30 de janeiro, a OMS declarou o surto uma Emergência de Saúde Pública de Interesse Internacional.\n",
        "* Um infectado pode transmitir o vírus para até 3 pessoas.\n",
        "\n",
        "Fontes: https://www.kaggle.com/imdevskp/covid-19-analysis-viz-prediction-comparisons/data#COVID-19,\n",
        "\n",
        "https://g1.globo.com/ciencia-e-saude/noticia/2020/01/27/paciente-infectado-por-coronavirus-pode-transmitir-a-doenca-para-ate-tres-pessoas-diz-estudo-britanico.ghtml"
      ]
    },
    {
      "cell_type": "markdown",
      "metadata": {
        "id": "JcpXZkvTbJmQ",
        "colab_type": "text"
      },
      "source": [
        "# Dataset: COVID-19\n",
        "\n",
        "Column Description: covid19data.csv\n",
        "\n",
        "* Sno - Serial number\n",
        "* ObservationDate - Date of the observation in MM/DD/YYYY\n",
        "* Province/State - Province or state of the observation (Could be empty when missing)\n",
        "* Country/Region - Country of observation\n",
        "* Last Update - Time in UTC at which the row is updated for the given \n",
        "province or country. (Not standardised and so please clean before using it)\n",
        "* Confirmed - Cumulative number of confirmed cases till that date\n",
        "* Deaths - Cumulative number of of deaths till that date\n",
        "* Recovered - Cumulative number of recovered cases till that date\n",
        "2019ncovdata.csv\n",
        "\n",
        "This is old dataset and not being updated now\n",
        "\n",
        "Fonte: https://www.kaggle.com/sudalairajkumar/novel-corona-virus-2019-dataset"
      ]
    },
    {
      "cell_type": "markdown",
      "metadata": {
        "id": "ZkKCWBihg8pJ",
        "colab_type": "text"
      },
      "source": [
        "# Importar arquivo CSV para o Colab\n",
        "\n",
        "Aviso: com o código abaixo, o arquivo csv não será persistido nesse notebook."
      ]
    },
    {
      "cell_type": "code",
      "metadata": {
        "id": "bxCUz0BogRUp",
        "colab_type": "code",
        "outputId": "01dab3c3-cd86-4031-ad5c-a007737be849",
        "colab": {
          "resources": {
            "http://localhost:8080/nbextensions/google.colab/files.js": {
              "data": "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",
              "ok": true,
              "headers": [
                [
                  "content-type",
                  "application/javascript"
                ]
              ],
              "status": 200,
              "status_text": ""
            }
          },
          "base_uri": "https://localhost:8080/",
          "height": 41
        }
      },
      "source": [
        "from google.colab import files\n",
        "uploaded = files.upload()"
      ],
      "execution_count": 0,
      "outputs": [
        {
          "output_type": "display_data",
          "data": {
            "text/html": [
              "\n",
              "     <input type=\"file\" id=\"files-e7d6f392-5c5f-43b9-8c49-fd90880958a7\" name=\"files[]\" multiple disabled />\n",
              "     <output id=\"result-e7d6f392-5c5f-43b9-8c49-fd90880958a7\">\n",
              "      Upload widget is only available when the cell has been executed in the\n",
              "      current browser session. Please rerun this cell to enable.\n",
              "      </output>\n",
              "      <script src=\"/nbextensions/google.colab/files.js\"></script> "
            ],
            "text/plain": [
              "<IPython.core.display.HTML object>"
            ]
          },
          "metadata": {
            "tags": []
          }
        }
      ]
    },
    {
      "cell_type": "markdown",
      "metadata": {
        "id": "0w7njOka3umN",
        "colab_type": "text"
      },
      "source": [
        "# Acesso ao Google Drive"
      ]
    },
    {
      "cell_type": "code",
      "metadata": {
        "id": "JBTQk1uy9c2P",
        "colab_type": "code",
        "outputId": "f80420a3-0389-4e89-b4a9-0348512fe035",
        "colab": {
          "base_uri": "https://localhost:8080/",
          "height": 34
        }
      },
      "source": [
        "from google.colab import drive\n",
        "drive.mount('/content/drive')"
      ],
      "execution_count": 0,
      "outputs": [
        {
          "output_type": "stream",
          "text": [
            "Drive already mounted at /content/drive; to attempt to forcibly remount, call drive.mount(\"/content/drive\", force_remount=True).\n"
          ],
          "name": "stdout"
        }
      ]
    },
    {
      "cell_type": "markdown",
      "metadata": {
        "id": "bKZKXPb8ZfbY",
        "colab_type": "text"
      },
      "source": [
        "## Importando bibliotecas\n"
      ]
    },
    {
      "cell_type": "code",
      "metadata": {
        "id": "fc4L-90dZZ-V",
        "colab_type": "code",
        "colab": {}
      },
      "source": [
        "import pandas as pd\n",
        "from pandas.plotting import register_matplotlib_converters\n",
        "import matplotlib.pyplot as plt\n",
        "from datetime import datetime, timedelta\n",
        "import seaborn as sns\n",
        "\n",
        "register_matplotlib_converters()\n",
        "plt.style.use('seaborn')\n",
        "\n",
        "pd.set_option('display.max_columns', None)\n",
        "pd.set_option('display.max_rows', None)"
      ],
      "execution_count": 0,
      "outputs": []
    },
    {
      "cell_type": "markdown",
      "metadata": {
        "id": "B_9rLGwhglYB",
        "colab_type": "text"
      },
      "source": [
        "## Ler arquivo CSV\n"
      ]
    },
    {
      "cell_type": "code",
      "metadata": {
        "id": "OO6YXQdBgoXH",
        "colab_type": "code",
        "outputId": "7d41090b-edf9-4176-d09b-c157d9c64900",
        "colab": {
          "base_uri": "https://localhost:8080/",
          "height": 34
        }
      },
      "source": [
        "df = pd.read_csv('2019_nCoV_data.csv')\n",
        "\n",
        "print(df.shape)"
      ],
      "execution_count": 0,
      "outputs": [
        {
          "output_type": "stream",
          "text": [
            "(1719, 8)\n"
          ],
          "name": "stdout"
        }
      ]
    },
    {
      "cell_type": "markdown",
      "metadata": {
        "id": "_26J0sUPZpUt",
        "colab_type": "text"
      },
      "source": [
        "# Pandas"
      ]
    },
    {
      "cell_type": "markdown",
      "metadata": {
        "id": "5gUD17yYkSLt",
        "colab_type": "text"
      },
      "source": [
        "## DataFrames"
      ]
    },
    {
      "cell_type": "code",
      "metadata": {
        "id": "5ObOq_DpIHl1",
        "colab_type": "code",
        "outputId": "ecd67b75-ddf4-40cb-ff01-18149cc47c67",
        "colab": {
          "base_uri": "https://localhost:8080/",
          "height": 34
        }
      },
      "source": [
        "type(df)"
      ],
      "execution_count": 0,
      "outputs": [
        {
          "output_type": "execute_result",
          "data": {
            "text/plain": [
              "pandas.core.frame.DataFrame"
            ]
          },
          "metadata": {
            "tags": []
          },
          "execution_count": 11
        }
      ]
    },
    {
      "cell_type": "markdown",
      "metadata": {
        "id": "JR5-DHL2b3Ic",
        "colab_type": "text"
      },
      "source": [
        "## Series"
      ]
    },
    {
      "cell_type": "code",
      "metadata": {
        "id": "LLxfx6qcIKxI",
        "colab_type": "code",
        "outputId": "bdf52e43-a3f8-462c-e2aa-9e18f88c1e9d",
        "colab": {
          "base_uri": "https://localhost:8080/",
          "height": 34
        }
      },
      "source": [
        "type(df.Country)"
      ],
      "execution_count": 0,
      "outputs": [
        {
          "output_type": "execute_result",
          "data": {
            "text/plain": [
              "pandas.core.series.Series"
            ]
          },
          "metadata": {
            "tags": []
          },
          "execution_count": 12
        }
      ]
    },
    {
      "cell_type": "markdown",
      "metadata": {
        "id": "7m5a2-e-kuvG",
        "colab_type": "text"
      },
      "source": [
        "## Acessando dados\n"
      ]
    },
    {
      "cell_type": "code",
      "metadata": {
        "id": "3fmpCW_okw7D",
        "colab_type": "code",
        "outputId": "244861be-20ce-461f-ed35-a1e1014ffd1e",
        "colab": {
          "base_uri": "https://localhost:8080/",
          "height": 134
        }
      },
      "source": [
        "df_countries = df.Country\n",
        "df_countries.unique()"
      ],
      "execution_count": 0,
      "outputs": [
        {
          "output_type": "execute_result",
          "data": {
            "text/plain": [
              "array(['China', 'US', 'Japan', 'Thailand', 'South Korea',\n",
              "       'Mainland China', 'Hong Kong', 'Macau', 'Taiwan', 'Singapore',\n",
              "       'Philippines', 'Malaysia', 'Vietnam', 'Australia', 'Mexico',\n",
              "       'Brazil', 'France', 'Nepal', 'Canada', 'Cambodia', 'Sri Lanka',\n",
              "       'Ivory Coast', 'Germany', 'Finland', 'United Arab Emirates',\n",
              "       'India', 'Italy', 'Sweden', 'Russia', 'Spain', 'UK', 'Belgium',\n",
              "       'Others', 'Egypt'], dtype=object)"
            ]
          },
          "metadata": {
            "tags": []
          },
          "execution_count": 13
        }
      ]
    },
    {
      "cell_type": "code",
      "metadata": {
        "id": "PMXBFFMKIa92",
        "colab_type": "code",
        "outputId": "60fc798b-b63b-437b-cfb0-8cfd4c5a3750",
        "colab": {
          "base_uri": "https://localhost:8080/",
          "height": 195
        }
      },
      "source": [
        "df.head()"
      ],
      "execution_count": 0,
      "outputs": [
        {
          "output_type": "execute_result",
          "data": {
            "text/html": [
              "<div>\n",
              "<style scoped>\n",
              "    .dataframe tbody tr th:only-of-type {\n",
              "        vertical-align: middle;\n",
              "    }\n",
              "\n",
              "    .dataframe tbody tr th {\n",
              "        vertical-align: top;\n",
              "    }\n",
              "\n",
              "    .dataframe thead th {\n",
              "        text-align: right;\n",
              "    }\n",
              "</style>\n",
              "<table border=\"1\" class=\"dataframe\">\n",
              "  <thead>\n",
              "    <tr style=\"text-align: right;\">\n",
              "      <th></th>\n",
              "      <th>Sno</th>\n",
              "      <th>Date</th>\n",
              "      <th>Province/State</th>\n",
              "      <th>Country</th>\n",
              "      <th>Last Update</th>\n",
              "      <th>Confirmed</th>\n",
              "      <th>Deaths</th>\n",
              "      <th>Recovered</th>\n",
              "    </tr>\n",
              "  </thead>\n",
              "  <tbody>\n",
              "    <tr>\n",
              "      <th>0</th>\n",
              "      <td>1</td>\n",
              "      <td>01/22/2020 12:00:00</td>\n",
              "      <td>Anhui</td>\n",
              "      <td>China</td>\n",
              "      <td>01/22/2020 12:00:00</td>\n",
              "      <td>1.0</td>\n",
              "      <td>0.0</td>\n",
              "      <td>0.0</td>\n",
              "    </tr>\n",
              "    <tr>\n",
              "      <th>1</th>\n",
              "      <td>2</td>\n",
              "      <td>01/22/2020 12:00:00</td>\n",
              "      <td>Beijing</td>\n",
              "      <td>China</td>\n",
              "      <td>01/22/2020 12:00:00</td>\n",
              "      <td>14.0</td>\n",
              "      <td>0.0</td>\n",
              "      <td>0.0</td>\n",
              "    </tr>\n",
              "    <tr>\n",
              "      <th>2</th>\n",
              "      <td>3</td>\n",
              "      <td>01/22/2020 12:00:00</td>\n",
              "      <td>Chongqing</td>\n",
              "      <td>China</td>\n",
              "      <td>01/22/2020 12:00:00</td>\n",
              "      <td>6.0</td>\n",
              "      <td>0.0</td>\n",
              "      <td>0.0</td>\n",
              "    </tr>\n",
              "    <tr>\n",
              "      <th>3</th>\n",
              "      <td>4</td>\n",
              "      <td>01/22/2020 12:00:00</td>\n",
              "      <td>Fujian</td>\n",
              "      <td>China</td>\n",
              "      <td>01/22/2020 12:00:00</td>\n",
              "      <td>1.0</td>\n",
              "      <td>0.0</td>\n",
              "      <td>0.0</td>\n",
              "    </tr>\n",
              "    <tr>\n",
              "      <th>4</th>\n",
              "      <td>5</td>\n",
              "      <td>01/22/2020 12:00:00</td>\n",
              "      <td>Gansu</td>\n",
              "      <td>China</td>\n",
              "      <td>01/22/2020 12:00:00</td>\n",
              "      <td>0.0</td>\n",
              "      <td>0.0</td>\n",
              "      <td>0.0</td>\n",
              "    </tr>\n",
              "  </tbody>\n",
              "</table>\n",
              "</div>"
            ],
            "text/plain": [
              "   Sno                 Date Province/State Country          Last Update  \\\n",
              "0    1  01/22/2020 12:00:00          Anhui   China  01/22/2020 12:00:00   \n",
              "1    2  01/22/2020 12:00:00        Beijing   China  01/22/2020 12:00:00   \n",
              "2    3  01/22/2020 12:00:00      Chongqing   China  01/22/2020 12:00:00   \n",
              "3    4  01/22/2020 12:00:00         Fujian   China  01/22/2020 12:00:00   \n",
              "4    5  01/22/2020 12:00:00          Gansu   China  01/22/2020 12:00:00   \n",
              "\n",
              "   Confirmed  Deaths  Recovered  \n",
              "0        1.0     0.0        0.0  \n",
              "1       14.0     0.0        0.0  \n",
              "2        6.0     0.0        0.0  \n",
              "3        1.0     0.0        0.0  \n",
              "4        0.0     0.0        0.0  "
            ]
          },
          "metadata": {
            "tags": []
          },
          "execution_count": 14
        }
      ]
    },
    {
      "cell_type": "code",
      "metadata": {
        "id": "zVY3_kq1SBKI",
        "colab_type": "code",
        "outputId": "1a8208df-1120-4473-a553-73eaeb9b5525",
        "colab": {
          "base_uri": "https://localhost:8080/",
          "height": 252
        }
      },
      "source": [
        "print(df.info())"
      ],
      "execution_count": 0,
      "outputs": [
        {
          "output_type": "stream",
          "text": [
            "<class 'pandas.core.frame.DataFrame'>\n",
            "RangeIndex: 1719 entries, 0 to 1718\n",
            "Data columns (total 8 columns):\n",
            "Sno               1719 non-null int64\n",
            "Date              1719 non-null object\n",
            "Province/State    1257 non-null object\n",
            "Country           1719 non-null object\n",
            "Last Update       1719 non-null object\n",
            "Confirmed         1719 non-null float64\n",
            "Deaths            1719 non-null float64\n",
            "Recovered         1719 non-null float64\n",
            "dtypes: float64(3), int64(1), object(4)\n",
            "memory usage: 107.6+ KB\n",
            "None\n"
          ],
          "name": "stdout"
        }
      ]
    },
    {
      "cell_type": "code",
      "metadata": {
        "id": "yWfZSfNf6cos",
        "colab_type": "code",
        "outputId": "3161a54b-b4a1-4ac8-874d-3d924b9e415b",
        "colab": {
          "base_uri": "https://localhost:8080/",
          "height": 168
        }
      },
      "source": [
        "print(df.describe())"
      ],
      "execution_count": 0,
      "outputs": [
        {
          "output_type": "stream",
          "text": [
            "               Sno     Confirmed       Deaths    Recovered\n",
            "count  1719.000000   1719.000000  1719.000000  1719.000000\n",
            "mean    860.000000    454.596859    10.441536    44.361838\n",
            "std     496.376873   3712.529032   106.638286   351.078713\n",
            "min       1.000000      0.000000     0.000000     0.000000\n",
            "25%     430.500000      2.000000     0.000000     0.000000\n",
            "50%     860.000000     12.000000     0.000000     0.000000\n",
            "75%    1289.500000    109.000000     0.000000     7.000000\n",
            "max    1719.000000  59989.000000  1789.000000  7862.000000\n"
          ],
          "name": "stdout"
        }
      ]
    },
    {
      "cell_type": "markdown",
      "metadata": {
        "id": "LQgZ4WI9_YVu",
        "colab_type": "text"
      },
      "source": [
        "# Pré-processamento dos dados"
      ]
    },
    {
      "cell_type": "markdown",
      "metadata": {
        "id": "mF5BdqepkeLU",
        "colab_type": "text"
      },
      "source": [
        "## Limpeza de dados (data cleansing)"
      ]
    },
    {
      "cell_type": "code",
      "metadata": {
        "id": "ufhLzv9uk8mQ",
        "colab_type": "code",
        "outputId": "d18ec38a-3553-4cce-c3c0-6bc049523c10",
        "colab": {
          "base_uri": "https://localhost:8080/",
          "height": 134
        }
      },
      "source": [
        "# remove time from Date\n",
        "df['Date'] = pd.to_datetime(df['Date']).dt.normalize()\n",
        "df['Last Update'] = pd.to_datetime(df['Last Update']).dt.normalize()\n",
        "\n",
        "dates = df[['Date', 'Last Update']]\n",
        "dates['Check'] = df['Date'] == df['Last Update']\n",
        "\n",
        "print(dates.query('Check == False').shape)"
      ],
      "execution_count": 0,
      "outputs": [
        {
          "output_type": "stream",
          "text": [
            "(938, 3)\n"
          ],
          "name": "stdout"
        },
        {
          "output_type": "stream",
          "text": [
            "/usr/local/lib/python3.6/dist-packages/ipykernel_launcher.py:5: SettingWithCopyWarning: \n",
            "A value is trying to be set on a copy of a slice from a DataFrame.\n",
            "Try using .loc[row_indexer,col_indexer] = value instead\n",
            "\n",
            "See the caveats in the documentation: http://pandas.pydata.org/pandas-docs/stable/user_guide/indexing.html#returning-a-view-versus-a-copy\n",
            "  \"\"\"\n"
          ],
          "name": "stderr"
        }
      ]
    },
    {
      "cell_type": "code",
      "metadata": {
        "id": "SMBE_hLBFrAH",
        "colab_type": "code",
        "outputId": "f1802ab9-a7f9-4162-b563-7b558357981a",
        "colab": {
          "base_uri": "https://localhost:8080/",
          "height": 195
        }
      },
      "source": [
        "# cases \n",
        "cases = ['Confirmed', 'Deaths', 'Recovered', 'Still Infected']\n",
        "\n",
        "# still infected = confirmed - deaths - recovered\n",
        "df['Still Infected'] = df['Confirmed'] - df['Deaths'] - df['Recovered']\n",
        "\n",
        "# replacing Mainland China with just China\n",
        "df['Country'] = df['Country'].replace('Mainland China', 'China')\n",
        "\n",
        "# filling missing values \n",
        "df[['Province/State']] = df[['Province/State']].fillna('NA')\n",
        "df[cases] = df[cases].fillna(0)\n",
        "\n",
        "# remove time from Date\n",
        "df['Date'] = pd.to_datetime(df['Date']).dt.normalize()\n",
        "\n",
        "df.head()"
      ],
      "execution_count": 0,
      "outputs": [
        {
          "output_type": "execute_result",
          "data": {
            "text/html": [
              "<div>\n",
              "<style scoped>\n",
              "    .dataframe tbody tr th:only-of-type {\n",
              "        vertical-align: middle;\n",
              "    }\n",
              "\n",
              "    .dataframe tbody tr th {\n",
              "        vertical-align: top;\n",
              "    }\n",
              "\n",
              "    .dataframe thead th {\n",
              "        text-align: right;\n",
              "    }\n",
              "</style>\n",
              "<table border=\"1\" class=\"dataframe\">\n",
              "  <thead>\n",
              "    <tr style=\"text-align: right;\">\n",
              "      <th></th>\n",
              "      <th>Sno</th>\n",
              "      <th>Date</th>\n",
              "      <th>Province/State</th>\n",
              "      <th>Country</th>\n",
              "      <th>Last Update</th>\n",
              "      <th>Confirmed</th>\n",
              "      <th>Deaths</th>\n",
              "      <th>Recovered</th>\n",
              "      <th>Still Infected</th>\n",
              "    </tr>\n",
              "  </thead>\n",
              "  <tbody>\n",
              "    <tr>\n",
              "      <th>0</th>\n",
              "      <td>1</td>\n",
              "      <td>2020-01-22</td>\n",
              "      <td>Anhui</td>\n",
              "      <td>China</td>\n",
              "      <td>2020-01-22</td>\n",
              "      <td>1.0</td>\n",
              "      <td>0.0</td>\n",
              "      <td>0.0</td>\n",
              "      <td>1.0</td>\n",
              "    </tr>\n",
              "    <tr>\n",
              "      <th>1</th>\n",
              "      <td>2</td>\n",
              "      <td>2020-01-22</td>\n",
              "      <td>Beijing</td>\n",
              "      <td>China</td>\n",
              "      <td>2020-01-22</td>\n",
              "      <td>14.0</td>\n",
              "      <td>0.0</td>\n",
              "      <td>0.0</td>\n",
              "      <td>14.0</td>\n",
              "    </tr>\n",
              "    <tr>\n",
              "      <th>2</th>\n",
              "      <td>3</td>\n",
              "      <td>2020-01-22</td>\n",
              "      <td>Chongqing</td>\n",
              "      <td>China</td>\n",
              "      <td>2020-01-22</td>\n",
              "      <td>6.0</td>\n",
              "      <td>0.0</td>\n",
              "      <td>0.0</td>\n",
              "      <td>6.0</td>\n",
              "    </tr>\n",
              "    <tr>\n",
              "      <th>3</th>\n",
              "      <td>4</td>\n",
              "      <td>2020-01-22</td>\n",
              "      <td>Fujian</td>\n",
              "      <td>China</td>\n",
              "      <td>2020-01-22</td>\n",
              "      <td>1.0</td>\n",
              "      <td>0.0</td>\n",
              "      <td>0.0</td>\n",
              "      <td>1.0</td>\n",
              "    </tr>\n",
              "    <tr>\n",
              "      <th>4</th>\n",
              "      <td>5</td>\n",
              "      <td>2020-01-22</td>\n",
              "      <td>Gansu</td>\n",
              "      <td>China</td>\n",
              "      <td>2020-01-22</td>\n",
              "      <td>0.0</td>\n",
              "      <td>0.0</td>\n",
              "      <td>0.0</td>\n",
              "      <td>0.0</td>\n",
              "    </tr>\n",
              "  </tbody>\n",
              "</table>\n",
              "</div>"
            ],
            "text/plain": [
              "   Sno       Date Province/State Country Last Update  Confirmed  Deaths  \\\n",
              "0    1 2020-01-22          Anhui   China  2020-01-22        1.0     0.0   \n",
              "1    2 2020-01-22        Beijing   China  2020-01-22       14.0     0.0   \n",
              "2    3 2020-01-22      Chongqing   China  2020-01-22        6.0     0.0   \n",
              "3    4 2020-01-22         Fujian   China  2020-01-22        1.0     0.0   \n",
              "4    5 2020-01-22          Gansu   China  2020-01-22        0.0     0.0   \n",
              "\n",
              "   Recovered  Still Infected  \n",
              "0        0.0             1.0  \n",
              "1        0.0            14.0  \n",
              "2        0.0             6.0  \n",
              "3        0.0             1.0  \n",
              "4        0.0             0.0  "
            ]
          },
          "metadata": {
            "tags": []
          },
          "execution_count": 10
        }
      ]
    },
    {
      "cell_type": "markdown",
      "metadata": {
        "id": "KJUIMh6YkGr2",
        "colab_type": "text"
      },
      "source": [
        "## Tabelas de análise"
      ]
    },
    {
      "cell_type": "code",
      "metadata": {
        "id": "LGwMLblQiIlL",
        "colab_type": "code",
        "outputId": "c14a2a3c-1b15-48f9-a85d-014289a84564",
        "colab": {
          "base_uri": "https://localhost:8080/",
          "height": 67
        }
      },
      "source": [
        "full_table_italy = df.query('Country == \"Italy\"')\n",
        "print(full_table_italy.shape)\n",
        "\n",
        "full_table_south_korea = df.query('Country == \"South Korea\"')\n",
        "print(full_table_south_korea.shape)\n",
        "\n",
        "full_table_china = df.query('Country == \"China\"')\n",
        "print(full_table_china.shape)"
      ],
      "execution_count": 0,
      "outputs": [
        {
          "output_type": "stream",
          "text": [
            "(19, 9)\n",
            "(27, 9)\n",
            "(835, 9)\n"
          ],
          "name": "stdout"
        }
      ]
    },
    {
      "cell_type": "markdown",
      "metadata": {
        "id": "rsYi3BLy6Prq",
        "colab_type": "text"
      },
      "source": [
        "# Processamento dos dados"
      ]
    },
    {
      "cell_type": "markdown",
      "metadata": {
        "id": "2gOCHLqSu84k",
        "colab_type": "text"
      },
      "source": [
        "## Indexação\n"
      ]
    },
    {
      "cell_type": "code",
      "metadata": {
        "id": "jfLFqLXcuzYd",
        "colab_type": "code",
        "outputId": "3d2d0b61-df4d-4db7-a94b-189706fc260f",
        "colab": {
          "base_uri": "https://localhost:8080/",
          "height": 84
        }
      },
      "source": [
        "full_table_china.index"
      ],
      "execution_count": 0,
      "outputs": [
        {
          "output_type": "execute_result",
          "data": {
            "text/plain": [
              "Int64Index([   0,    1,    2,    3,    4,    5,    6,    7,    8,    9,\n",
              "            ...\n",
              "            1666, 1667, 1668, 1669, 1670, 1672, 1673, 1674, 1681, 1708],\n",
              "           dtype='int64', length=835)"
            ]
          },
          "metadata": {
            "tags": []
          },
          "execution_count": 20
        }
      ]
    },
    {
      "cell_type": "code",
      "metadata": {
        "id": "mKHHMeK2vIGr",
        "colab_type": "code",
        "outputId": "0276fedc-c3e0-41c2-fe14-99bcc794b7a5",
        "colab": {
          "base_uri": "https://localhost:8080/",
          "height": 225
        }
      },
      "source": [
        "df_index_date = full_table_china.set_index('Date')\n",
        "df_index_date.head()"
      ],
      "execution_count": 0,
      "outputs": [
        {
          "output_type": "execute_result",
          "data": {
            "text/html": [
              "<div>\n",
              "<style scoped>\n",
              "    .dataframe tbody tr th:only-of-type {\n",
              "        vertical-align: middle;\n",
              "    }\n",
              "\n",
              "    .dataframe tbody tr th {\n",
              "        vertical-align: top;\n",
              "    }\n",
              "\n",
              "    .dataframe thead th {\n",
              "        text-align: right;\n",
              "    }\n",
              "</style>\n",
              "<table border=\"1\" class=\"dataframe\">\n",
              "  <thead>\n",
              "    <tr style=\"text-align: right;\">\n",
              "      <th></th>\n",
              "      <th>Sno</th>\n",
              "      <th>Province/State</th>\n",
              "      <th>Country</th>\n",
              "      <th>Last Update</th>\n",
              "      <th>Confirmed</th>\n",
              "      <th>Deaths</th>\n",
              "      <th>Recovered</th>\n",
              "      <th>Still Infected</th>\n",
              "    </tr>\n",
              "    <tr>\n",
              "      <th>Date</th>\n",
              "      <th></th>\n",
              "      <th></th>\n",
              "      <th></th>\n",
              "      <th></th>\n",
              "      <th></th>\n",
              "      <th></th>\n",
              "      <th></th>\n",
              "      <th></th>\n",
              "    </tr>\n",
              "  </thead>\n",
              "  <tbody>\n",
              "    <tr>\n",
              "      <th>2020-01-22</th>\n",
              "      <td>1</td>\n",
              "      <td>Anhui</td>\n",
              "      <td>China</td>\n",
              "      <td>2020-01-22</td>\n",
              "      <td>1.0</td>\n",
              "      <td>0.0</td>\n",
              "      <td>0.0</td>\n",
              "      <td>1.0</td>\n",
              "    </tr>\n",
              "    <tr>\n",
              "      <th>2020-01-22</th>\n",
              "      <td>2</td>\n",
              "      <td>Beijing</td>\n",
              "      <td>China</td>\n",
              "      <td>2020-01-22</td>\n",
              "      <td>14.0</td>\n",
              "      <td>0.0</td>\n",
              "      <td>0.0</td>\n",
              "      <td>14.0</td>\n",
              "    </tr>\n",
              "    <tr>\n",
              "      <th>2020-01-22</th>\n",
              "      <td>3</td>\n",
              "      <td>Chongqing</td>\n",
              "      <td>China</td>\n",
              "      <td>2020-01-22</td>\n",
              "      <td>6.0</td>\n",
              "      <td>0.0</td>\n",
              "      <td>0.0</td>\n",
              "      <td>6.0</td>\n",
              "    </tr>\n",
              "    <tr>\n",
              "      <th>2020-01-22</th>\n",
              "      <td>4</td>\n",
              "      <td>Fujian</td>\n",
              "      <td>China</td>\n",
              "      <td>2020-01-22</td>\n",
              "      <td>1.0</td>\n",
              "      <td>0.0</td>\n",
              "      <td>0.0</td>\n",
              "      <td>1.0</td>\n",
              "    </tr>\n",
              "    <tr>\n",
              "      <th>2020-01-22</th>\n",
              "      <td>5</td>\n",
              "      <td>Gansu</td>\n",
              "      <td>China</td>\n",
              "      <td>2020-01-22</td>\n",
              "      <td>0.0</td>\n",
              "      <td>0.0</td>\n",
              "      <td>0.0</td>\n",
              "      <td>0.0</td>\n",
              "    </tr>\n",
              "  </tbody>\n",
              "</table>\n",
              "</div>"
            ],
            "text/plain": [
              "            Sno Province/State Country Last Update  Confirmed  Deaths  \\\n",
              "Date                                                                    \n",
              "2020-01-22    1          Anhui   China  2020-01-22        1.0     0.0   \n",
              "2020-01-22    2        Beijing   China  2020-01-22       14.0     0.0   \n",
              "2020-01-22    3      Chongqing   China  2020-01-22        6.0     0.0   \n",
              "2020-01-22    4         Fujian   China  2020-01-22        1.0     0.0   \n",
              "2020-01-22    5          Gansu   China  2020-01-22        0.0     0.0   \n",
              "\n",
              "            Recovered  Still Infected  \n",
              "Date                                   \n",
              "2020-01-22        0.0             1.0  \n",
              "2020-01-22        0.0            14.0  \n",
              "2020-01-22        0.0             6.0  \n",
              "2020-01-22        0.0             1.0  \n",
              "2020-01-22        0.0             0.0  "
            ]
          },
          "metadata": {
            "tags": []
          },
          "execution_count": 21
        }
      ]
    },
    {
      "cell_type": "markdown",
      "metadata": {
        "id": "AHtikQw5zZvL",
        "colab_type": "text"
      },
      "source": [
        "## Consulta de valores com Query"
      ]
    },
    {
      "cell_type": "code",
      "metadata": {
        "id": "wUVR1BAMzX8w",
        "colab_type": "code",
        "outputId": "20e24faa-64b2-4d6f-dcd2-3a06f014ebfc",
        "colab": {
          "base_uri": "https://localhost:8080/",
          "height": 195
        }
      },
      "source": [
        "df.query('Country == \"China\"').head()"
      ],
      "execution_count": 0,
      "outputs": [
        {
          "output_type": "execute_result",
          "data": {
            "text/html": [
              "<div>\n",
              "<style scoped>\n",
              "    .dataframe tbody tr th:only-of-type {\n",
              "        vertical-align: middle;\n",
              "    }\n",
              "\n",
              "    .dataframe tbody tr th {\n",
              "        vertical-align: top;\n",
              "    }\n",
              "\n",
              "    .dataframe thead th {\n",
              "        text-align: right;\n",
              "    }\n",
              "</style>\n",
              "<table border=\"1\" class=\"dataframe\">\n",
              "  <thead>\n",
              "    <tr style=\"text-align: right;\">\n",
              "      <th></th>\n",
              "      <th>Sno</th>\n",
              "      <th>Date</th>\n",
              "      <th>Province/State</th>\n",
              "      <th>Country</th>\n",
              "      <th>Last Update</th>\n",
              "      <th>Confirmed</th>\n",
              "      <th>Deaths</th>\n",
              "      <th>Recovered</th>\n",
              "      <th>Still Infected</th>\n",
              "    </tr>\n",
              "  </thead>\n",
              "  <tbody>\n",
              "    <tr>\n",
              "      <th>0</th>\n",
              "      <td>1</td>\n",
              "      <td>2020-01-22</td>\n",
              "      <td>Anhui</td>\n",
              "      <td>China</td>\n",
              "      <td>2020-01-22</td>\n",
              "      <td>1.0</td>\n",
              "      <td>0.0</td>\n",
              "      <td>0.0</td>\n",
              "      <td>1.0</td>\n",
              "    </tr>\n",
              "    <tr>\n",
              "      <th>1</th>\n",
              "      <td>2</td>\n",
              "      <td>2020-01-22</td>\n",
              "      <td>Beijing</td>\n",
              "      <td>China</td>\n",
              "      <td>2020-01-22</td>\n",
              "      <td>14.0</td>\n",
              "      <td>0.0</td>\n",
              "      <td>0.0</td>\n",
              "      <td>14.0</td>\n",
              "    </tr>\n",
              "    <tr>\n",
              "      <th>2</th>\n",
              "      <td>3</td>\n",
              "      <td>2020-01-22</td>\n",
              "      <td>Chongqing</td>\n",
              "      <td>China</td>\n",
              "      <td>2020-01-22</td>\n",
              "      <td>6.0</td>\n",
              "      <td>0.0</td>\n",
              "      <td>0.0</td>\n",
              "      <td>6.0</td>\n",
              "    </tr>\n",
              "    <tr>\n",
              "      <th>3</th>\n",
              "      <td>4</td>\n",
              "      <td>2020-01-22</td>\n",
              "      <td>Fujian</td>\n",
              "      <td>China</td>\n",
              "      <td>2020-01-22</td>\n",
              "      <td>1.0</td>\n",
              "      <td>0.0</td>\n",
              "      <td>0.0</td>\n",
              "      <td>1.0</td>\n",
              "    </tr>\n",
              "    <tr>\n",
              "      <th>4</th>\n",
              "      <td>5</td>\n",
              "      <td>2020-01-22</td>\n",
              "      <td>Gansu</td>\n",
              "      <td>China</td>\n",
              "      <td>2020-01-22</td>\n",
              "      <td>0.0</td>\n",
              "      <td>0.0</td>\n",
              "      <td>0.0</td>\n",
              "      <td>0.0</td>\n",
              "    </tr>\n",
              "  </tbody>\n",
              "</table>\n",
              "</div>"
            ],
            "text/plain": [
              "   Sno       Date Province/State Country Last Update  Confirmed  Deaths  \\\n",
              "0    1 2020-01-22          Anhui   China  2020-01-22        1.0     0.0   \n",
              "1    2 2020-01-22        Beijing   China  2020-01-22       14.0     0.0   \n",
              "2    3 2020-01-22      Chongqing   China  2020-01-22        6.0     0.0   \n",
              "3    4 2020-01-22         Fujian   China  2020-01-22        1.0     0.0   \n",
              "4    5 2020-01-22          Gansu   China  2020-01-22        0.0     0.0   \n",
              "\n",
              "   Recovered  Still Infected  \n",
              "0        0.0             1.0  \n",
              "1        0.0            14.0  \n",
              "2        0.0             6.0  \n",
              "3        0.0             1.0  \n",
              "4        0.0             0.0  "
            ]
          },
          "metadata": {
            "tags": []
          },
          "execution_count": 22
        }
      ]
    },
    {
      "cell_type": "code",
      "metadata": {
        "id": "Buv_oOy8gand",
        "colab_type": "code",
        "outputId": "9f4a07e4-1824-4dcc-b243-8c838f39e391",
        "colab": {
          "base_uri": "https://localhost:8080/",
          "height": 195
        }
      },
      "source": [
        "df.query('Country in [\"China\", \"South Korea\", \"Italy\"]').head()"
      ],
      "execution_count": 0,
      "outputs": [
        {
          "output_type": "execute_result",
          "data": {
            "text/html": [
              "<div>\n",
              "<style scoped>\n",
              "    .dataframe tbody tr th:only-of-type {\n",
              "        vertical-align: middle;\n",
              "    }\n",
              "\n",
              "    .dataframe tbody tr th {\n",
              "        vertical-align: top;\n",
              "    }\n",
              "\n",
              "    .dataframe thead th {\n",
              "        text-align: right;\n",
              "    }\n",
              "</style>\n",
              "<table border=\"1\" class=\"dataframe\">\n",
              "  <thead>\n",
              "    <tr style=\"text-align: right;\">\n",
              "      <th></th>\n",
              "      <th>Sno</th>\n",
              "      <th>Date</th>\n",
              "      <th>Province/State</th>\n",
              "      <th>Country</th>\n",
              "      <th>Last Update</th>\n",
              "      <th>Confirmed</th>\n",
              "      <th>Deaths</th>\n",
              "      <th>Recovered</th>\n",
              "      <th>Still Infected</th>\n",
              "    </tr>\n",
              "  </thead>\n",
              "  <tbody>\n",
              "    <tr>\n",
              "      <th>0</th>\n",
              "      <td>1</td>\n",
              "      <td>2020-01-22</td>\n",
              "      <td>Anhui</td>\n",
              "      <td>China</td>\n",
              "      <td>2020-01-22</td>\n",
              "      <td>1.0</td>\n",
              "      <td>0.0</td>\n",
              "      <td>0.0</td>\n",
              "      <td>1.0</td>\n",
              "    </tr>\n",
              "    <tr>\n",
              "      <th>1</th>\n",
              "      <td>2</td>\n",
              "      <td>2020-01-22</td>\n",
              "      <td>Beijing</td>\n",
              "      <td>China</td>\n",
              "      <td>2020-01-22</td>\n",
              "      <td>14.0</td>\n",
              "      <td>0.0</td>\n",
              "      <td>0.0</td>\n",
              "      <td>14.0</td>\n",
              "    </tr>\n",
              "    <tr>\n",
              "      <th>2</th>\n",
              "      <td>3</td>\n",
              "      <td>2020-01-22</td>\n",
              "      <td>Chongqing</td>\n",
              "      <td>China</td>\n",
              "      <td>2020-01-22</td>\n",
              "      <td>6.0</td>\n",
              "      <td>0.0</td>\n",
              "      <td>0.0</td>\n",
              "      <td>6.0</td>\n",
              "    </tr>\n",
              "    <tr>\n",
              "      <th>3</th>\n",
              "      <td>4</td>\n",
              "      <td>2020-01-22</td>\n",
              "      <td>Fujian</td>\n",
              "      <td>China</td>\n",
              "      <td>2020-01-22</td>\n",
              "      <td>1.0</td>\n",
              "      <td>0.0</td>\n",
              "      <td>0.0</td>\n",
              "      <td>1.0</td>\n",
              "    </tr>\n",
              "    <tr>\n",
              "      <th>4</th>\n",
              "      <td>5</td>\n",
              "      <td>2020-01-22</td>\n",
              "      <td>Gansu</td>\n",
              "      <td>China</td>\n",
              "      <td>2020-01-22</td>\n",
              "      <td>0.0</td>\n",
              "      <td>0.0</td>\n",
              "      <td>0.0</td>\n",
              "      <td>0.0</td>\n",
              "    </tr>\n",
              "  </tbody>\n",
              "</table>\n",
              "</div>"
            ],
            "text/plain": [
              "   Sno       Date Province/State Country Last Update  Confirmed  Deaths  \\\n",
              "0    1 2020-01-22          Anhui   China  2020-01-22        1.0     0.0   \n",
              "1    2 2020-01-22        Beijing   China  2020-01-22       14.0     0.0   \n",
              "2    3 2020-01-22      Chongqing   China  2020-01-22        6.0     0.0   \n",
              "3    4 2020-01-22         Fujian   China  2020-01-22        1.0     0.0   \n",
              "4    5 2020-01-22          Gansu   China  2020-01-22        0.0     0.0   \n",
              "\n",
              "   Recovered  Still Infected  \n",
              "0        0.0             1.0  \n",
              "1        0.0            14.0  \n",
              "2        0.0             6.0  \n",
              "3        0.0             1.0  \n",
              "4        0.0             0.0  "
            ]
          },
          "metadata": {
            "tags": []
          },
          "execution_count": 23
        }
      ]
    },
    {
      "cell_type": "code",
      "metadata": {
        "id": "rWVwelvGzoAb",
        "colab_type": "code",
        "outputId": "d8b40347-b096-4e52-831e-1dd2c8ff9064",
        "colab": {
          "base_uri": "https://localhost:8080/",
          "height": 195
        }
      },
      "source": [
        "df.query('Confirmed > 10000').head()"
      ],
      "execution_count": 0,
      "outputs": [
        {
          "output_type": "execute_result",
          "data": {
            "text/html": [
              "<div>\n",
              "<style scoped>\n",
              "    .dataframe tbody tr th:only-of-type {\n",
              "        vertical-align: middle;\n",
              "    }\n",
              "\n",
              "    .dataframe tbody tr th {\n",
              "        vertical-align: top;\n",
              "    }\n",
              "\n",
              "    .dataframe thead th {\n",
              "        text-align: right;\n",
              "    }\n",
              "</style>\n",
              "<table border=\"1\" class=\"dataframe\">\n",
              "  <thead>\n",
              "    <tr style=\"text-align: right;\">\n",
              "      <th></th>\n",
              "      <th>Sno</th>\n",
              "      <th>Date</th>\n",
              "      <th>Province/State</th>\n",
              "      <th>Country</th>\n",
              "      <th>Last Update</th>\n",
              "      <th>Confirmed</th>\n",
              "      <th>Deaths</th>\n",
              "      <th>Recovered</th>\n",
              "      <th>Still Infected</th>\n",
              "    </tr>\n",
              "  </thead>\n",
              "  <tbody>\n",
              "    <tr>\n",
              "      <th>564</th>\n",
              "      <td>565</td>\n",
              "      <td>2020-02-02</td>\n",
              "      <td>Hubei</td>\n",
              "      <td>China</td>\n",
              "      <td>2020-02-02</td>\n",
              "      <td>11177.0</td>\n",
              "      <td>350.0</td>\n",
              "      <td>295.0</td>\n",
              "      <td>10532.0</td>\n",
              "    </tr>\n",
              "    <tr>\n",
              "      <th>631</th>\n",
              "      <td>632</td>\n",
              "      <td>2020-02-03</td>\n",
              "      <td>Hubei</td>\n",
              "      <td>China</td>\n",
              "      <td>2020-04-02</td>\n",
              "      <td>13522.0</td>\n",
              "      <td>414.0</td>\n",
              "      <td>396.0</td>\n",
              "      <td>12712.0</td>\n",
              "    </tr>\n",
              "    <tr>\n",
              "      <th>700</th>\n",
              "      <td>701</td>\n",
              "      <td>2020-02-04</td>\n",
              "      <td>Hubei</td>\n",
              "      <td>China</td>\n",
              "      <td>2020-04-02</td>\n",
              "      <td>16678.0</td>\n",
              "      <td>479.0</td>\n",
              "      <td>522.0</td>\n",
              "      <td>15677.0</td>\n",
              "    </tr>\n",
              "    <tr>\n",
              "      <th>770</th>\n",
              "      <td>771</td>\n",
              "      <td>2020-02-05</td>\n",
              "      <td>Hubei</td>\n",
              "      <td>China</td>\n",
              "      <td>2020-05-02</td>\n",
              "      <td>16678.0</td>\n",
              "      <td>479.0</td>\n",
              "      <td>538.0</td>\n",
              "      <td>15661.0</td>\n",
              "    </tr>\n",
              "    <tr>\n",
              "      <th>840</th>\n",
              "      <td>841</td>\n",
              "      <td>2020-02-06</td>\n",
              "      <td>Hubei</td>\n",
              "      <td>China</td>\n",
              "      <td>2020-06-02</td>\n",
              "      <td>22112.0</td>\n",
              "      <td>618.0</td>\n",
              "      <td>817.0</td>\n",
              "      <td>20677.0</td>\n",
              "    </tr>\n",
              "  </tbody>\n",
              "</table>\n",
              "</div>"
            ],
            "text/plain": [
              "     Sno       Date Province/State Country Last Update  Confirmed  Deaths  \\\n",
              "564  565 2020-02-02          Hubei   China  2020-02-02    11177.0   350.0   \n",
              "631  632 2020-02-03          Hubei   China  2020-04-02    13522.0   414.0   \n",
              "700  701 2020-02-04          Hubei   China  2020-04-02    16678.0   479.0   \n",
              "770  771 2020-02-05          Hubei   China  2020-05-02    16678.0   479.0   \n",
              "840  841 2020-02-06          Hubei   China  2020-06-02    22112.0   618.0   \n",
              "\n",
              "     Recovered  Still Infected  \n",
              "564      295.0         10532.0  \n",
              "631      396.0         12712.0  \n",
              "700      522.0         15677.0  \n",
              "770      538.0         15661.0  \n",
              "840      817.0         20677.0  "
            ]
          },
          "metadata": {
            "tags": []
          },
          "execution_count": 24
        }
      ]
    },
    {
      "cell_type": "markdown",
      "metadata": {
        "id": "YRo9uZQpH6SJ",
        "colab_type": "text"
      },
      "source": [
        "## Seleção de colunas"
      ]
    },
    {
      "cell_type": "code",
      "metadata": {
        "id": "UpmTA7a7H8hR",
        "colab_type": "code",
        "outputId": "9526aa7e-a440-49dd-ced1-13f732971d51",
        "colab": {
          "base_uri": "https://localhost:8080/",
          "height": 195
        }
      },
      "source": [
        "df[['Country', 'Confirmed', 'Deaths', 'Recovered']].head()"
      ],
      "execution_count": 0,
      "outputs": [
        {
          "output_type": "execute_result",
          "data": {
            "text/html": [
              "<div>\n",
              "<style scoped>\n",
              "    .dataframe tbody tr th:only-of-type {\n",
              "        vertical-align: middle;\n",
              "    }\n",
              "\n",
              "    .dataframe tbody tr th {\n",
              "        vertical-align: top;\n",
              "    }\n",
              "\n",
              "    .dataframe thead th {\n",
              "        text-align: right;\n",
              "    }\n",
              "</style>\n",
              "<table border=\"1\" class=\"dataframe\">\n",
              "  <thead>\n",
              "    <tr style=\"text-align: right;\">\n",
              "      <th></th>\n",
              "      <th>Country</th>\n",
              "      <th>Confirmed</th>\n",
              "      <th>Deaths</th>\n",
              "      <th>Recovered</th>\n",
              "    </tr>\n",
              "  </thead>\n",
              "  <tbody>\n",
              "    <tr>\n",
              "      <th>0</th>\n",
              "      <td>China</td>\n",
              "      <td>1.0</td>\n",
              "      <td>0.0</td>\n",
              "      <td>0.0</td>\n",
              "    </tr>\n",
              "    <tr>\n",
              "      <th>1</th>\n",
              "      <td>China</td>\n",
              "      <td>14.0</td>\n",
              "      <td>0.0</td>\n",
              "      <td>0.0</td>\n",
              "    </tr>\n",
              "    <tr>\n",
              "      <th>2</th>\n",
              "      <td>China</td>\n",
              "      <td>6.0</td>\n",
              "      <td>0.0</td>\n",
              "      <td>0.0</td>\n",
              "    </tr>\n",
              "    <tr>\n",
              "      <th>3</th>\n",
              "      <td>China</td>\n",
              "      <td>1.0</td>\n",
              "      <td>0.0</td>\n",
              "      <td>0.0</td>\n",
              "    </tr>\n",
              "    <tr>\n",
              "      <th>4</th>\n",
              "      <td>China</td>\n",
              "      <td>0.0</td>\n",
              "      <td>0.0</td>\n",
              "      <td>0.0</td>\n",
              "    </tr>\n",
              "  </tbody>\n",
              "</table>\n",
              "</div>"
            ],
            "text/plain": [
              "  Country  Confirmed  Deaths  Recovered\n",
              "0   China        1.0     0.0        0.0\n",
              "1   China       14.0     0.0        0.0\n",
              "2   China        6.0     0.0        0.0\n",
              "3   China        1.0     0.0        0.0\n",
              "4   China        0.0     0.0        0.0"
            ]
          },
          "metadata": {
            "tags": []
          },
          "execution_count": 25
        }
      ]
    },
    {
      "cell_type": "markdown",
      "metadata": {
        "id": "VFLNgR-YKc2P",
        "colab_type": "text"
      },
      "source": [
        "## Agregação de Dados"
      ]
    },
    {
      "cell_type": "code",
      "metadata": {
        "id": "lq1EP6qBdY8V",
        "colab_type": "code",
        "outputId": "1bb3fa10-dd1e-4a1a-c378-37b7e10b7ea2",
        "colab": {
          "base_uri": "https://localhost:8080/",
          "height": 343
        }
      },
      "source": [
        "df_agg = df[['Country', 'Confirmed', 'Deaths', 'Recovered']]\n",
        "df_agg = df_agg.groupby(['Country']).sum().reset_index()\n",
        "\n",
        "df_agg.head(10)"
      ],
      "execution_count": 0,
      "outputs": [
        {
          "output_type": "execute_result",
          "data": {
            "text/html": [
              "<div>\n",
              "<style scoped>\n",
              "    .dataframe tbody tr th:only-of-type {\n",
              "        vertical-align: middle;\n",
              "    }\n",
              "\n",
              "    .dataframe tbody tr th {\n",
              "        vertical-align: top;\n",
              "    }\n",
              "\n",
              "    .dataframe thead th {\n",
              "        text-align: right;\n",
              "    }\n",
              "</style>\n",
              "<table border=\"1\" class=\"dataframe\">\n",
              "  <thead>\n",
              "    <tr style=\"text-align: right;\">\n",
              "      <th></th>\n",
              "      <th>Country</th>\n",
              "      <th>Confirmed</th>\n",
              "      <th>Deaths</th>\n",
              "      <th>Recovered</th>\n",
              "    </tr>\n",
              "  </thead>\n",
              "  <tbody>\n",
              "    <tr>\n",
              "      <th>0</th>\n",
              "      <td>Australia</td>\n",
              "      <td>284.0</td>\n",
              "      <td>0.0</td>\n",
              "      <td>70.0</td>\n",
              "    </tr>\n",
              "    <tr>\n",
              "      <th>1</th>\n",
              "      <td>Belgium</td>\n",
              "      <td>14.0</td>\n",
              "      <td>0.0</td>\n",
              "      <td>1.0</td>\n",
              "    </tr>\n",
              "    <tr>\n",
              "      <th>2</th>\n",
              "      <td>Brazil</td>\n",
              "      <td>0.0</td>\n",
              "      <td>0.0</td>\n",
              "      <td>0.0</td>\n",
              "    </tr>\n",
              "    <tr>\n",
              "      <th>3</th>\n",
              "      <td>Cambodia</td>\n",
              "      <td>22.0</td>\n",
              "      <td>0.0</td>\n",
              "      <td>6.0</td>\n",
              "    </tr>\n",
              "    <tr>\n",
              "      <th>4</th>\n",
              "      <td>Canada</td>\n",
              "      <td>116.0</td>\n",
              "      <td>0.0</td>\n",
              "      <td>6.0</td>\n",
              "    </tr>\n",
              "    <tr>\n",
              "      <th>5</th>\n",
              "      <td>China</td>\n",
              "      <td>773500.0</td>\n",
              "      <td>17908.0</td>\n",
              "      <td>75440.0</td>\n",
              "    </tr>\n",
              "    <tr>\n",
              "      <th>6</th>\n",
              "      <td>Egypt</td>\n",
              "      <td>4.0</td>\n",
              "      <td>0.0</td>\n",
              "      <td>0.0</td>\n",
              "    </tr>\n",
              "    <tr>\n",
              "      <th>7</th>\n",
              "      <td>Finland</td>\n",
              "      <td>20.0</td>\n",
              "      <td>0.0</td>\n",
              "      <td>7.0</td>\n",
              "    </tr>\n",
              "    <tr>\n",
              "      <th>8</th>\n",
              "      <td>France</td>\n",
              "      <td>186.0</td>\n",
              "      <td>3.0</td>\n",
              "      <td>18.0</td>\n",
              "    </tr>\n",
              "    <tr>\n",
              "      <th>9</th>\n",
              "      <td>Germany</td>\n",
              "      <td>252.0</td>\n",
              "      <td>0.0</td>\n",
              "      <td>5.0</td>\n",
              "    </tr>\n",
              "  </tbody>\n",
              "</table>\n",
              "</div>"
            ],
            "text/plain": [
              "     Country  Confirmed   Deaths  Recovered\n",
              "0  Australia      284.0      0.0       70.0\n",
              "1    Belgium       14.0      0.0        1.0\n",
              "2     Brazil        0.0      0.0        0.0\n",
              "3   Cambodia       22.0      0.0        6.0\n",
              "4     Canada      116.0      0.0        6.0\n",
              "5      China   773500.0  17908.0    75440.0\n",
              "6      Egypt        4.0      0.0        0.0\n",
              "7    Finland       20.0      0.0        7.0\n",
              "8     France      186.0      3.0       18.0\n",
              "9    Germany      252.0      0.0        5.0"
            ]
          },
          "metadata": {
            "tags": []
          },
          "execution_count": 26
        }
      ]
    },
    {
      "cell_type": "code",
      "metadata": {
        "id": "C2BX97JsIq_e",
        "colab_type": "code",
        "outputId": "7540075c-819f-40b2-fe32-5499d385bf14",
        "colab": {
          "base_uri": "https://localhost:8080/",
          "height": 195
        }
      },
      "source": [
        "df_agg.sort_values('Confirmed', ascending=False).head()"
      ],
      "execution_count": 0,
      "outputs": [
        {
          "output_type": "execute_result",
          "data": {
            "text/html": [
              "<div>\n",
              "<style scoped>\n",
              "    .dataframe tbody tr th:only-of-type {\n",
              "        vertical-align: middle;\n",
              "    }\n",
              "\n",
              "    .dataframe tbody tr th {\n",
              "        vertical-align: top;\n",
              "    }\n",
              "\n",
              "    .dataframe thead th {\n",
              "        text-align: right;\n",
              "    }\n",
              "</style>\n",
              "<table border=\"1\" class=\"dataframe\">\n",
              "  <thead>\n",
              "    <tr style=\"text-align: right;\">\n",
              "      <th></th>\n",
              "      <th>Country</th>\n",
              "      <th>Confirmed</th>\n",
              "      <th>Deaths</th>\n",
              "      <th>Recovered</th>\n",
              "    </tr>\n",
              "  </thead>\n",
              "  <tbody>\n",
              "    <tr>\n",
              "      <th>5</th>\n",
              "      <td>China</td>\n",
              "      <td>773500.0</td>\n",
              "      <td>17908.0</td>\n",
              "      <td>75440.0</td>\n",
              "    </tr>\n",
              "    <tr>\n",
              "      <th>19</th>\n",
              "      <td>Others</td>\n",
              "      <td>2161.0</td>\n",
              "      <td>0.0</td>\n",
              "      <td>0.0</td>\n",
              "    </tr>\n",
              "    <tr>\n",
              "      <th>22</th>\n",
              "      <td>Singapore</td>\n",
              "      <td>797.0</td>\n",
              "      <td>0.0</td>\n",
              "      <td>122.0</td>\n",
              "    </tr>\n",
              "    <tr>\n",
              "      <th>10</th>\n",
              "      <td>Hong Kong</td>\n",
              "      <td>681.0</td>\n",
              "      <td>14.0</td>\n",
              "      <td>8.0</td>\n",
              "    </tr>\n",
              "    <tr>\n",
              "      <th>14</th>\n",
              "      <td>Japan</td>\n",
              "      <td>591.0</td>\n",
              "      <td>5.0</td>\n",
              "      <td>91.0</td>\n",
              "    </tr>\n",
              "  </tbody>\n",
              "</table>\n",
              "</div>"
            ],
            "text/plain": [
              "      Country  Confirmed   Deaths  Recovered\n",
              "5       China   773500.0  17908.0    75440.0\n",
              "19     Others     2161.0      0.0        0.0\n",
              "22  Singapore      797.0      0.0      122.0\n",
              "10  Hong Kong      681.0     14.0        8.0\n",
              "14      Japan      591.0      5.0       91.0"
            ]
          },
          "metadata": {
            "tags": []
          },
          "execution_count": 27
        }
      ]
    },
    {
      "cell_type": "markdown",
      "metadata": {
        "id": "alDUnw8AQgW2",
        "colab_type": "text"
      },
      "source": [
        "# Visualização de dados"
      ]
    },
    {
      "cell_type": "markdown",
      "metadata": {
        "id": "e0aH4p7TpzlT",
        "colab_type": "text"
      },
      "source": [
        "## Scatterplot"
      ]
    },
    {
      "cell_type": "code",
      "metadata": {
        "id": "U-4Cf8cXcs8U",
        "colab_type": "code",
        "colab": {}
      },
      "source": [
        "def scatterplot(df_table, title):\n",
        "  df_scatter = df_table[['Date', 'Province/State', 'Confirmed', 'Deaths', 'Still Infected']]\n",
        "  df_scatter = df_scatter.groupby(['Date']).sum().reset_index()\n",
        "\n",
        "  plt.plot_date(df_scatter['Date'], df_scatter['Still Infected'])\n",
        "  plt.gcf().autofmt_xdate()\n",
        "  plt.xlabel('Date')\n",
        "  plt.title(title)\n",
        "  plt.tight_layout()\n",
        "  plt.show()"
      ],
      "execution_count": 0,
      "outputs": []
    },
    {
      "cell_type": "code",
      "metadata": {
        "id": "HnRgWY5yXxdM",
        "colab_type": "code",
        "outputId": "229efba7-619b-4021-bc97-c1ac6689faac",
        "colab": {
          "base_uri": "https://localhost:8080/",
          "height": 405
        }
      },
      "source": [
        "scatterplot(full_table_china, 'Still Infected in China')"
      ],
      "execution_count": 0,
      "outputs": [
        {
          "output_type": "display_data",
          "data": {
            "image/png": "[encoded data removed]",
            "text/plain": [
              "<Figure size 576x396 with 1 Axes>"
            ]
          },
          "metadata": {
            "tags": []
          }
        }
      ]
    },
    {
      "cell_type": "code",
      "metadata": {
        "id": "Gii1CNPJX8ME",
        "colab_type": "code",
        "outputId": "8a0e4802-ded5-4a51-810c-08236a5faa9a",
        "colab": {
          "base_uri": "https://localhost:8080/",
          "height": 405
        }
      },
      "source": [
        "scatterplot(full_table_south_korea, 'Still Infected in South Korea')"
      ],
      "execution_count": 0,
      "outputs": [
        {
          "output_type": "display_data",
          "data": {
            "image/png": "[encoded data removed]",
            "text/plain": [
              "<Figure size 576x396 with 1 Axes>"
            ]
          },
          "metadata": {
            "tags": []
          }
        }
      ]
    },
    {
      "cell_type": "markdown",
      "metadata": {
        "id": "WCnIbp5Mk1Lq",
        "colab_type": "text"
      },
      "source": [
        "## Barplots"
      ]
    },
    {
      "cell_type": "code",
      "metadata": {
        "id": "42eb-YqUlhab",
        "colab_type": "code",
        "outputId": "76e27d52-2d24-4580-d38c-9e4c39d81cc6",
        "colab": {
          "base_uri": "https://localhost:8080/",
          "height": 544
        }
      },
      "source": [
        "def barplot(table, title):\n",
        "  sns.barplot(x='Type', y='Number', hue='Country', data=table, palette='magma')\n",
        "  plt.title(title)\n",
        "  plt.show()\n",
        "\n",
        "def calc_porc(table, country):\n",
        "  partial = table.groupby(['Country'], as_index=False).sum()\n",
        "  total = partial['Confirmed'].loc[0]\n",
        "  partial = partial[['Deaths', 'Recovered', 'Still Infected']]\n",
        "  partial = (partial * 100) / total\n",
        "  partial = partial.transpose().reset_index()\n",
        "  partial = partial.rename(columns={'index': 'Type', 0: 'Number'})\n",
        "  partial['Country'] = country\n",
        "  return partial\n",
        "\n",
        "china = calc_porc(full_table_china, 'China')\n",
        "south_korea = calc_porc(full_table_south_korea, 'South Korea')\n",
        "italy = calc_porc(full_table_italy, 'Italy')\n",
        "\n",
        "data = pd.concat([china, south_korea, italy])\n",
        "print(data.head(20))\n",
        "barplot(data, 'Número de casos confirmados')\n"
      ],
      "execution_count": 0,
      "outputs": [
        {
          "output_type": "stream",
          "text": [
            "             Type      Number      Country\n",
            "0          Deaths    2.315191        China\n",
            "1       Recovered    9.753070        China\n",
            "2  Still Infected   87.931739        China\n",
            "0          Deaths    0.000000  South Korea\n",
            "1       Recovered   14.189189  South Korea\n",
            "2  Still Infected   85.810811  South Korea\n",
            "0          Deaths    0.000000        Italy\n",
            "1       Recovered    0.000000        Italy\n",
            "2  Still Infected  100.000000        Italy\n"
          ],
          "name": "stdout"
        },
        {
          "output_type": "display_data",
          "data": {
            "image/png": "[encoded data removed]",
            "text/plain": [
              "<Figure size 576x396 with 1 Axes>"
            ]
          },
          "metadata": {
            "tags": []
          }
        }
      ]
    },
    {
      "cell_type": "markdown",
      "metadata": {
        "id": "pjcjF6PYvonZ",
        "colab_type": "text"
      },
      "source": [
        "# Outras perguntas...\n",
        "\n",
        "* Qual a probabilidade de contrair a doença em voos?\n",
        "* Quão mais \"perigosa\" é COVID-19 em comparação com SARS e Ebola?\n",
        "* A temperatura do ambiente pode impactar na taxa de transmissão do vírus?\n",
        "* Qual(is) as faixas etárias mais atingidas pela doença?"
      ]
    },
    {
      "cell_type": "markdown",
      "metadata": {
        "id": "0cx5OsT9qkRK",
        "colab_type": "text"
      },
      "source": [
        "# Take Away\n",
        "\n",
        "* Definição do problema\n",
        "* **PERGUNTAS** sobre o problema\n",
        "* Coleta de dados\n",
        "* Limpeza de dados\n",
        "* Análise de dados (tabular ou visualização)\n",
        "* Resultados da analise"
      ]
    },
    {
      "cell_type": "markdown",
      "metadata": {
        "id": "oSmbWiZOnUjX",
        "colab_type": "text"
      },
      "source": [
        "# Resumo\n",
        "\n",
        "*   Matemática\n",
        "  * Estatística\n",
        "  * Álgebra linear\n",
        "  * Probabilidade\n",
        "  * ...\n",
        "\n",
        "*   Ferramentas\n",
        "  * Numpy\n",
        "  * Pandas\n",
        "  * Statsmodels\n",
        "  * Scikit-learn\n",
        "\n",
        "* Visualização (D3, Matplotlib, seaborn, ...)\n",
        "\n",
        "* Dados!\n",
        "  * Kaggle\n",
        "  * Reddit\n",
        "\n",
        "\n"
      ]
    },
    {
      "cell_type": "markdown",
      "metadata": {
        "id": "FmZzLa_5esIw",
        "colab_type": "text"
      },
      "source": [
        "# Referências\n"
      ]
    },
    {
      "cell_type": "markdown",
      "metadata": {
        "id": "Y9bJbWUIevLQ",
        "colab_type": "text"
      },
      "source": [
        "https://colab.research.google.com/drive/1a4sbKG7jOJGn4oeonQPA8XjJm7OYgcdX#scrollTo=wb0PmFpoG9ay\n",
        "https://colab.research.google.com/notebooks/mlcc/intro_to_pandas.ipynb?hl=en#scrollTo=JndnmDMp66FL\n",
        "https://github.com/CSSEGISandData/COVID-19/\n",
        "\n",
        "https://www.kaggle.com/sudalairajkumar/novel-corona-virus-2019-dataset#time_series_covid_19_confirmed.csv\n",
        "\n",
        "https://www.ime.usp.br/~pam/cdados.pdf\n",
        "https://www.stat.cmu.edu/~hseltman/309/Book/chapter4.pdf\n",
        "\n",
        "https://towardsdatascience.com/exploratory-data-analysis-8fc1cb20fd15\n",
        "\n",
        "https://nbviewer.jupyter.org/github/PBPatil/Exploratory_Data_Analysis-Wine_Quality_Dataset/blob/master/winequality_white.ipynb\n",
        "\n",
        "https://www.who.int/docs/default-source/coronaviruse/situation-reports/20200306-sitrep-46-covid-19.pdf?sfvrsn=96b04adf_2\n",
        "\n",
        "https://minerandodados.com.br/analise-de-dados-com-python-usando-pandas/\n"
      ]
    }
  ]
}